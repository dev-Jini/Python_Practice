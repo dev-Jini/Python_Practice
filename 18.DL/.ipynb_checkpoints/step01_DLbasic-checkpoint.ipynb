{
 "cells": [
  {
   "cell_type": "code",
   "execution_count": 2,
   "metadata": {},
   "outputs": [
    {
     "name": "stdout",
     "output_type": "stream",
     "text": [
      "Name: tensorflow\n",
      "Version: 2.0.0\n",
      "Summary: TensorFlow is an open source machine learning framework for everyone.\n",
      "Home-page: https://www.tensorflow.org/\n",
      "Author: Google Inc.\n",
      "Author-email: packages@tensorflow.org\n",
      "License: Apache 2.0\n",
      "Location: c:\\users\\playdata\\anaconda3\\envs\\encore\\lib\\site-packages\n",
      "Requires: google-pasta, six, tensorboard, astor, keras-preprocessing, opt-einsum, wrapt, grpcio, keras-applications, protobuf, wheel, termcolor, absl-py, gast, numpy, tensorflow-estimator\n",
      "Required-by: \n",
      "Note: you may need to restart the kernel to use updated packages.\n"
     ]
    }
   ],
   "source": [
    "pip show tensorflow"
   ]
  },
  {
   "cell_type": "code",
   "execution_count": 3,
   "metadata": {},
   "outputs": [
    {
     "name": "stdout",
     "output_type": "stream",
     "text": [
      "Name: Keras\n",
      "Version: 2.3.1\n",
      "Summary: Deep Learning for humans\n",
      "Home-page: https://github.com/keras-team/keras\n",
      "Author: Francois Chollet\n",
      "Author-email: francois.chollet@gmail.com\n",
      "License: MIT\n",
      "Location: c:\\users\\playdata\\anaconda3\\envs\\encore\\lib\\site-packages\n",
      "Requires: h5py, numpy, keras-preprocessing, scipy, pyyaml, keras-applications, six\n",
      "Required-by: \n",
      "Note: you may need to restart the kernel to use updated packages.\n"
     ]
    }
   ],
   "source": [
    "pip show keras"
   ]
  },
  {
   "cell_type": "code",
   "execution_count": 8,
   "metadata": {},
   "outputs": [
    {
     "name": "stderr",
     "output_type": "stream",
     "text": [
      "Using TensorFlow backend.\n"
     ]
    }
   ],
   "source": [
    "import tensorflow as tf\n",
    "import numpy as np\n",
    "import warnings\n",
    "import keras\n",
    "warnings.filterwarnings(action='ignore')"
   ]
  },
  {
   "cell_type": "code",
   "execution_count": null,
   "metadata": {},
   "outputs": [],
   "source": [
    "# 두개의 숫자값으로 + 연산을 tensorflow 기반으로 진행\n",
    "a = tf.constant(2)\n",
    "b = tf.constant(3)\n",
    "c = a + b\n",
    "\n",
    "sess = tf.Session()\n",
    "\n",
    "result = sess.run(c)\n",
    "\n",
    "print(result)"
   ]
  },
  {
   "cell_type": "code",
   "execution_count": 10,
   "metadata": {},
   "outputs": [
    {
     "name": "stdout",
     "output_type": "stream",
     "text": [
      "타겟 :  [5 7 9]\n",
      "예측 :  [4.6332717 6.3684344 8.103598 ]\n"
     ]
    }
   ],
   "source": [
    "x = np.array([0,1,2,3,4])\n",
    "y = x*2 + 1  #[1,3,5,7,9]\n",
    "\n",
    "# Keras 모델\n",
    "model = keras.models.Sequential()\n",
    "\n",
    "# 입력 노드 하나에 가중치 하나 선언\n",
    "model.add(keras.layers.Dense(1, input_shape = (1, )))\n",
    "\n",
    "# SGD - 확률적 경사 하강법, MSE - 평균제곱 오차 비용함수\n",
    "model.compile('SGD', 'mse')\n",
    "\n",
    "# 지도학습 \n",
    "#model.fit(x[:2], y[:2], epochs = 300, verbose=0)\n",
    "model.fit(x[:2], y[:2], epochs = 300)\n",
    "\n",
    "print('타겟 : ', y[2:])\n",
    "print('예측 : ', model.predict(x[2:]).flatten())"
   ]
  },
  {
   "cell_type": "code",
   "execution_count": null,
   "metadata": {},
   "outputs": [],
   "source": []
  }
 ],
 "metadata": {
  "kernelspec": {
   "display_name": "Python 3",
   "language": "python",
   "name": "python3"
  },
  "language_info": {
   "codemirror_mode": {
    "name": "ipython",
    "version": 3
   },
   "file_extension": ".py",
   "mimetype": "text/x-python",
   "name": "python",
   "nbconvert_exporter": "python",
   "pygments_lexer": "ipython3",
   "version": "3.6.9"
  }
 },
 "nbformat": 4,
 "nbformat_minor": 2
}
