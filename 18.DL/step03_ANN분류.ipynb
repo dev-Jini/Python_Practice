{
 "cells": [
  {
   "cell_type": "markdown",
   "metadata": {},
   "source": [
    "ANN(Artficial Neural Network) <br>\n",
    "\n",
    "1. 인공신경망 총칭하는 용어\n",
    "- 중간층 활성 함수 - relu\n",
    "- 출력층 활성함수\n",
    ">다중분류 : softmax, 이진분류 : sigmoid or softmax, 회귀 : relu\n",
    "\n",
    "\n"
   ]
  },
  {
   "cell_type": "markdown",
   "metadata": {},
   "source": [
    "MNIST 손글씨 데이터 분류하기"
   ]
  },
  {
   "cell_type": "code",
   "execution_count": 1,
   "metadata": {},
   "outputs": [
    {
     "name": "stderr",
     "output_type": "stream",
     "text": [
      "Using TensorFlow backend.\n"
     ]
    }
   ],
   "source": [
    "# modeling\n",
    "from keras import layers, models"
   ]
  },
  {
   "cell_type": "code",
   "execution_count": 2,
   "metadata": {},
   "outputs": [],
   "source": [
    "def ann_seq_func(Nin, Nh, Nout):\n",
    "    model = models.Sequential()\n",
    "    \n",
    "    model.add(layers.Dense(Nh, activation='relu', input_shape=(Nin,)))\n",
    "    model.add(layers.Dense(Nout, activation='softmax'))\n",
    "    \n",
    "    '''\n",
    "    오차(비용) 함수 : categorical_crossentropy\n",
    "                      (활성화 함수롷 softmax 사용하기 때문)\n",
    "    최적화 함수 : SGD(확률 경사 하강법)\n",
    "    metrics 성능 확인 : accuracy\n",
    "    '''\n",
    "    model.compile(loss='categorical_crossentropy', optimizer='sgd', \n",
    "                  metrics=['accuracy'])\n",
    "    \n",
    "    return model"
   ]
  },
  {
   "cell_type": "code",
   "execution_count": 3,
   "metadata": {},
   "outputs": [],
   "source": [
    "# Data\n",
    "from keras import datasets \n",
    "from keras.utils import np_utils\n",
    "\n",
    "import matplotlib.pyplot as plt\n",
    "%matplotlib inline\n",
    "\n",
    "\n",
    "'''\n",
    "MNiST 데이터 셋\n",
    "- 이미지 데이터 X, 0~9까지 붙인 이름표를 Y\n",
    "총 70000개의\n",
    "60000개 - 훈련 데이터, 10000개 - 검증 데이터로 read한 구조\n",
    "'''\n",
    "\n",
    "def data_fun():\n",
    "    (x_train, y_train), (x_test, y_test) = datasets.mnist.load_data()\n",
    "    \n",
    "    # 가로 세로 28*28 픽셀로 이미지 그리기\n",
    "    plt.imshow(x_train[1:2].reshape(28, 28))\n",
    "    plt.show()    \n",
    "    \n",
    "    # 원핫인코딩을 위한 keras API, 0~9까지의 \n",
    "    # 정수값 형태가 아닌 0이나 1로 이뤄진 백터로 수정\n",
    "    # 3인 경 [0,0,1,0,0,0,0,0,0]\n",
    "    y_train = np_utils.to_categorical(y_train)\n",
    "    y_test = np_utils.to_categorical(y_test)\n",
    "    \n",
    "    L, W, H = x_train.shape  #(60000, 28, 28)\n",
    "       \n",
    "    #? 행 개수는 상관없고, 열을 28*28 즉 784로 reshape\n",
    "    x_train = x_train.reshape(-1, W*H)\n",
    "    x_test = x_test.reshape(-1, W*H)\n",
    "    \n",
    "    return (x_train, y_train), (x_test, y_test)"
   ]
  },
  {
   "cell_type": "code",
   "execution_count": 4,
   "metadata": {},
   "outputs": [
    {
     "data": {
      "image/png": "[encoded data removed]",
      "text/plain": [
       "<Figure size 432x288 with 1 Axes>"
      ]
     },
     "metadata": {
      "needs_background": "light"
     },
     "output_type": "display_data"
    },
    {
     "name": "stdout",
     "output_type": "stream",
     "text": [
      "Train on 48000 samples, validate on 12000 samples\n",
      "Epoch 1/12\n",
      "48000/48000 [==============================] - 1s 23us/step - loss: 216.8189 - accuracy: 0.1939 - val_loss: 2.0975 - val_accuracy: 0.1948\n",
      "Epoch 2/12\n",
      "48000/48000 [==============================] - 1s 25us/step - loss: 2.0407 - accuracy: 0.2313 - val_loss: 1.9409 - val_accuracy: 0.2562\n",
      "Epoch 3/12\n",
      "48000/48000 [==============================] - 1s 23us/step - loss: 1.8566 - accuracy: 0.3225 - val_loss: 1.8152 - val_accuracy: 0.3421\n",
      "Epoch 4/12\n",
      "48000/48000 [==============================] - 1s 24us/step - loss: 1.6367 - accuracy: 0.4174 - val_loss: 1.4014 - val_accuracy: 0.5036\n",
      "Epoch 5/12\n",
      "48000/48000 [==============================] - 1s 22us/step - loss: 1.4281 - accuracy: 0.5063 - val_loss: 1.3876 - val_accuracy: 0.5218\n",
      "Epoch 6/12\n",
      "48000/48000 [==============================] - 1s 22us/step - loss: 1.3419 - accuracy: 0.5446 - val_loss: 1.2606 - val_accuracy: 0.5637\n",
      "Epoch 7/12\n",
      "48000/48000 [==============================] - 1s 22us/step - loss: 1.2445 - accuracy: 0.5762 - val_loss: 1.2273 - val_accuracy: 0.5848\n",
      "Epoch 8/12\n",
      "48000/48000 [==============================] - 1s 23us/step - loss: 1.2369 - accuracy: 0.5765 - val_loss: 1.1650 - val_accuracy: 0.6029\n",
      "Epoch 9/12\n",
      "48000/48000 [==============================] - 1s 22us/step - loss: 1.3510 - accuracy: 0.5189 - val_loss: 1.3128 - val_accuracy: 0.5197\n",
      "Epoch 10/12\n",
      "48000/48000 [==============================] - 1s 22us/step - loss: 1.3398 - accuracy: 0.5150 - val_loss: 1.3353 - val_accuracy: 0.5128\n",
      "Epoch 11/12\n",
      "48000/48000 [==============================] - 1s 23us/step - loss: 1.2835 - accuracy: 0.5354 - val_loss: 1.4600 - val_accuracy: 0.5362\n",
      "Epoch 12/12\n",
      "48000/48000 [==============================] - 1s 23us/step - loss: 1.2860 - accuracy: 0.5485 - val_loss: 1.1786 - val_accuracy: 0.5876\n",
      "10000/10000 [==============================] - 0s 13us/step\n",
      "loss와 평가  [1.1672905564308167, 0.589900016784668]\n"
     ]
    }
   ],
   "source": [
    "# 분류 학습 및 성능 분석\n",
    "\n",
    "def main():\n",
    "    Nin = 784\n",
    "    Nh = 100\n",
    "    Nout = 10\n",
    "    \n",
    "    model = ann_seq_func(Nin, Nh, Nout)\n",
    "    \n",
    "    (x_train, y_train), (x_test, y_test) = data_fun()\n",
    "    \n",
    "    # 학습 : 훈련 + 학습 동안 성능을 검증하는 구조로 학습\n",
    "    # epochs = 15, batch_size=100, 검증데이터 20%\n",
    "    history = model.fit(x_train, y_train, epochs=12, \n",
    "                        batch_size=100, validation_split=0.2)\n",
    "    \n",
    "    # 학습 후에 성능 검증 \n",
    "    performance_test = model.evaluate(x_test, y_test, batch_size=100)\n",
    "    print(\"loss와 평가 \", performance_test)\n",
    "\n",
    "\n",
    "main()"
   ]
  },
  {
   "cell_type": "code",
   "execution_count": 5,
   "metadata": {},
   "outputs": [
    {
     "data": {
      "image/png": "[encoded data removed]",
      "text/plain": [
       "<Figure size 432x288 with 1 Axes>"
      ]
     },
     "metadata": {
      "needs_background": "light"
     },
     "output_type": "display_data"
    },
    {
     "data": {
      "text/plain": [
       "((array([[0, 0, 0, ..., 0, 0, 0],\n",
       "         [0, 0, 0, ..., 0, 0, 0],\n",
       "         [0, 0, 0, ..., 0, 0, 0],\n",
       "         ...,\n",
       "         [0, 0, 0, ..., 0, 0, 0],\n",
       "         [0, 0, 0, ..., 0, 0, 0],\n",
       "         [0, 0, 0, ..., 0, 0, 0]], dtype=uint8),\n",
       "  array([[0., 0., 0., ..., 0., 0., 0.],\n",
       "         [1., 0., 0., ..., 0., 0., 0.],\n",
       "         [0., 0., 0., ..., 0., 0., 0.],\n",
       "         ...,\n",
       "         [0., 0., 0., ..., 0., 0., 0.],\n",
       "         [0., 0., 0., ..., 0., 0., 0.],\n",
       "         [0., 0., 0., ..., 0., 1., 0.]], dtype=float32)),\n",
       " (array([[0, 0, 0, ..., 0, 0, 0],\n",
       "         [0, 0, 0, ..., 0, 0, 0],\n",
       "         [0, 0, 0, ..., 0, 0, 0],\n",
       "         ...,\n",
       "         [0, 0, 0, ..., 0, 0, 0],\n",
       "         [0, 0, 0, ..., 0, 0, 0],\n",
       "         [0, 0, 0, ..., 0, 0, 0]], dtype=uint8),\n",
       "  array([[0., 0., 0., ..., 1., 0., 0.],\n",
       "         [0., 0., 1., ..., 0., 0., 0.],\n",
       "         [0., 1., 0., ..., 0., 0., 0.],\n",
       "         ...,\n",
       "         [0., 0., 0., ..., 0., 0., 0.],\n",
       "         [0., 0., 0., ..., 0., 0., 0.],\n",
       "         [0., 0., 0., ..., 0., 0., 0.]], dtype=float32)))"
      ]
     },
     "execution_count": 5,
     "metadata": {},
     "output_type": "execute_result"
    }
   ],
   "source": [
    "data_fun()"
   ]
  }
 ],
 "metadata": {
  "kernelspec": {
   "display_name": "Python 3",
   "language": "python",
   "name": "python3"
  },
  "language_info": {
   "codemirror_mode": {
    "name": "ipython",
    "version": 3
   },
   "file_extension": ".py",
   "mimetype": "text/x-python",
   "name": "python",
   "nbconvert_exporter": "python",
   "pygments_lexer": "ipython3",
   "version": "3.6.9"
  }
 },
 "nbformat": 4,
 "nbformat_minor": 2
}
