{
 "cells": [
  {
   "cell_type": "code",
   "execution_count": 1,
   "metadata": {},
   "outputs": [
    {
     "name": "stderr",
     "output_type": "stream",
     "text": [
      "Using TensorFlow backend.\n"
     ]
    }
   ],
   "source": [
    "import tensorflow as tf\n",
    "import numpy as np\n",
    "import warnings\n",
    "import keras\n",
    "warnings.filterwarnings(action='ignore')"
   ]
  },
  {
   "cell_type": "code",
   "execution_count": 2,
   "metadata": {},
   "outputs": [
    {
     "ename": "AttributeError",
     "evalue": "module 'tensorflow' has no attribute 'Session'",
     "output_type": "error",
     "traceback": [
      "\u001b[1;31m---------------------------------------------------------------------------\u001b[0m",
      "\u001b[1;31mAttributeError\u001b[0m                            Traceback (most recent call last)",
      "\u001b[1;32m<ipython-input-2-cb3219ca63db>\u001b[0m in \u001b[0;36m<module>\u001b[1;34m\u001b[0m\n\u001b[0;32m      4\u001b[0m \u001b[0mc\u001b[0m \u001b[1;33m=\u001b[0m \u001b[0ma\u001b[0m \u001b[1;33m+\u001b[0m \u001b[0mb\u001b[0m\u001b[1;33m\u001b[0m\u001b[1;33m\u001b[0m\u001b[0m\n\u001b[0;32m      5\u001b[0m \u001b[1;33m\u001b[0m\u001b[0m\n\u001b[1;32m----> 6\u001b[1;33m \u001b[0msess\u001b[0m \u001b[1;33m=\u001b[0m \u001b[0mtf\u001b[0m\u001b[1;33m.\u001b[0m\u001b[0mSession\u001b[0m\u001b[1;33m(\u001b[0m\u001b[1;33m)\u001b[0m\u001b[1;33m\u001b[0m\u001b[1;33m\u001b[0m\u001b[0m\n\u001b[0m\u001b[0;32m      7\u001b[0m \u001b[1;33m\u001b[0m\u001b[0m\n\u001b[0;32m      8\u001b[0m \u001b[0mresult\u001b[0m \u001b[1;33m=\u001b[0m \u001b[0msess\u001b[0m\u001b[1;33m.\u001b[0m\u001b[0mrun\u001b[0m\u001b[1;33m(\u001b[0m\u001b[0mc\u001b[0m\u001b[1;33m)\u001b[0m\u001b[1;33m\u001b[0m\u001b[1;33m\u001b[0m\u001b[0m\n",
      "\u001b[1;31mAttributeError\u001b[0m: module 'tensorflow' has no attribute 'Session'"
     ]
    }
   ],
   "source": [
    "# 두개의 숫자값으로 + 연산을 tensorflow 기반으로 진행\n",
    "a = tf.constant(2)\n",
    "b = tf.constant(3)\n",
    "c = a + b\n",
    "\n",
    "sess = tf.Session()\n",
    "\n",
    "result = sess.run(c)\n",
    "\n",
    "print(result)"
   ]
  },
  {
   "cell_type": "code",
   "execution_count": 3,
   "metadata": {},
   "outputs": [
    {
     "name": "stdout",
     "output_type": "stream",
     "text": [
      "타겟 :  [5 7 9]\n",
      "예측 :  [4.949993 6.913808 8.877623]\n"
     ]
    }
   ],
   "source": [
    "x = np.array([0,1,2,3,4])\n",
    "y = x*2 + 1  #[1,3,5,7,9]\n",
    "\n",
    "# Keras 모델\n",
    "model = keras.models.Sequential()\n",
    "\n",
    "# 입력 노드 하나에 가중치 하나 선언\n",
    "model.add(keras.layers.Dense(1, input_shape = (1, )))\n",
    "\n",
    "# SGD - 확률적 경사 하강법, MSE - 평균제곱 오차 비용함수\n",
    "model.compile('SGD', 'mse')\n",
    "\n",
    "# 지도학습 \n",
    "#model.fit(x[:2], y[:2], epochs = 300)\n",
    "model.fit(x[:2], y[:2], epochs = 1000, verbose=0)\n",
    "\n",
    "print('타겟 : ', y[2:])\n",
    "print('예측 : ', model.predict(x[2:]).flatten())"
   ]
  },
  {
   "cell_type": "markdown",
   "metadata": {},
   "source": [
    "###### Boston 집값 데이터 활용"
   ]
  },
  {
   "cell_type": "code",
   "execution_count": 6,
   "metadata": {},
   "outputs": [],
   "source": [
    "from keras import layers, models, datasets\n",
    "from sklearn import preprocessing\n",
    "import matplotlib.pyplot as plt\n",
    "%matplotlib inline"
   ]
  },
  {
   "cell_type": "code",
   "execution_count": 7,
   "metadata": {},
   "outputs": [
    {
     "name": "stdout",
     "output_type": "stream",
     "text": [
      "102/102 [==============================] - 0s 20us/step\n",
      "\n",
      " test loss -> 33.97\n"
     ]
    },
    {
     "data": {
      "image/png": "[encoded data removed]",
      "text/plain": [
       "<Figure size 432x288 with 1 Axes>"
      ]
     },
     "metadata": {
      "needs_background": "light"
     },
     "output_type": "display_data"
    }
   ],
   "source": [
    "# 모델링 함수 구현\n",
    "def ann_seq_func(Nin, Nh, Nout):\n",
    "    # 모델 생성\n",
    "    model = models.Sequential()\n",
    "    \n",
    "    # 입력 계층 노드의 수(Nin), 은닉 계층 노드의 수(Nh), 활성함수 (Relu : 0이하는 무시하고)\n",
    "    model.add(keras.layers.Dense(Nh, activation='relu', input_shape=(Nin,)))\n",
    "    \n",
    "    # 은닉층 추가\n",
    "    model.add(keras.layers.Dense(Nout, activation='relu', input_shape=(Nin,)))\n",
    "    \n",
    "    # SGD - 확률적 경사 하강법, MSE - 평균제곱 오차 비용함수\n",
    "    model.compile(loss=\"mse\", optimizer='sgd')\n",
    "    \n",
    "    return model\n",
    "\n",
    "def data_func():\n",
    "    (X_train, y_train), (X_test, y_test) = datasets.boston_housing.load_data()\n",
    "    \n",
    "    # 데이터 정규화\n",
    "    scaler = preprocessing.MinMaxScaler()\n",
    "    X_train = scaler.fit_transform(X_train)\n",
    "    X_test = scaler.fit_transform(X_test)\n",
    "    \n",
    "    return (X_train, y_train), (X_test, y_test)\n",
    "    \n",
    "# main() - 회귀 ANN(Artificial Neural Network : 인공 신경망)\n",
    "'''\n",
    "\n",
    "'''\n",
    "def main():\n",
    "    Nin = 13\n",
    "    Nh = 5\n",
    "    Nout = 1\n",
    "    \n",
    "    model = ann_seq_func(Nin, Nh, Nout)\n",
    "    \n",
    "    (X_train, y_train), (X_test, y_test) = data_func()\n",
    "    \n",
    "    history = model.fit(X_train, y_train, epochs = 100, batch_size=100, validation_split=0.2, verbose=0)\n",
    "    \n",
    "    performance_test = model.evaluate(X_test, y_test, batch_size=100)\n",
    "    print('\\n test loss -> {:.2f}'.format(performance_test))\n",
    "    \n",
    "    \n",
    "    history = history.history\n",
    "    \n",
    "    '''cost/loss 변화 추이를 그래프로 보기'''\n",
    "    plt.plot(history['loss'])\n",
    "    plt.plot(history['val_loss'])\n",
    "    plt.ylabel('Loss')\n",
    "    plt.xlabel('Epoch')\n",
    "    plt.legend(['Training', 'Verification'], loc='best')\n",
    "    \n",
    "main()"
   ]
  }
 ],
 "metadata": {
  "kernelspec": {
   "display_name": "Python 3",
   "language": "python",
   "name": "python3"
  },
  "language_info": {
   "codemirror_mode": {
    "name": "ipython",
    "version": 3
   },
   "file_extension": ".py",
   "mimetype": "text/x-python",
   "name": "python",
   "nbconvert_exporter": "python",
   "pygments_lexer": "ipython3",
   "version": "3.6.9"
  }
 },
 "nbformat": 4,
 "nbformat_minor": 2
}
