{
 "cells": [
  {
   "cell_type": "markdown",
   "metadata": {},
   "source": [
    "### 제시된 데이터셋을 활용해서 미완성 문제 풀이하기"
   ]
  },
  {
   "cell_type": "markdown",
   "metadata": {},
   "source": [
    "1. ANN에서는 은닉계층이 하나. DNN은 수십에서 수백개의 은닉 계층으로 구성\n",
    "- DNN에서는 Sigmoid 함수처럼 입력을 특정 범위로 줄이는 활성화 함수들은 Vanishing Gradient 문제가 발생할 수 있음.  Vanishing Gradient 극복하는 활성함수 ReLu 함수를 사용 \n",
    "- 다중 분류 시 활성 함수는 Softmax를 많이 사용 \n"
   ]
  },
  {
   "cell_type": "markdown",
   "metadata": {},
   "source": [
    "###### 활성함수\n",
    "\n",
    "1. 중간층 활성함수 : relu\n",
    "\n",
    "2. 출력층 활성함수<br>\n",
    "    - 다중 분류 - softmax\n",
    "    - 이진 분류 - sigmoid or softmax\n",
    "    - 회귀 - relu"
   ]
  },
  {
   "cell_type": "markdown",
   "metadata": {},
   "source": [
    "###### 손실함수  ( loss함수, 목적함수, cost함수)\n",
    "1. softmax가 출력 활성화 함수인 경우 : categorical_crossentropy\n",
    "2. sigmoid가 출력 활성화 함수인 경우 : binary_crossentropy\n"
   ]
  },
  {
   "cell_type": "markdown",
   "metadata": {},
   "source": [
    "### 문제1 :  ? 피마 인디언의 당뇨병 예측 실행\n",
    "\n",
    "1. 문제 - 비만은 유전일까? 식습관 조절에 실패한 자신의 탓일까?\n",
    "- 비만이 유전 및 환경, 모두의 탓이라는 것을 증명한 좋은 사례 \n",
    "- 미국 남서부에 살고 있는 피마 인디언의 사례\n",
    "- 피마 인디언은 1950년대까지만 해도 비만인 사람이 단 한명도 없었다 함\n",
    "- 현재는 전체 부족의 60%가 당뇨, 80%가 비만으로 고통받고 있음\n",
    "- 사유? 생존하기 위해 영양분을 체내에 저장하는 뛰어난 능력을 물려 받은 인디언들이 미국의 기름진 패스트푸트 문화를 만나면서 발생된 현상\n",
    "- dataset\n",
    "    1. sample 수 : 768\n",
    "    - 속성 : 8<br>\n",
    "    과거 임신 횟수, 포도당 부하 검사 2시간 후 공복 혈당 농도(mm Hg), 확장기 혈압, 삼두근 피부 주름 두께(mm), 당뇨병 가족력, 나이등\n",
    "    - 클래스 : 당뇨(1), 당뇨 아님(0)\n",
    "    \n",
    "    "
   ]
  },
  {
   "cell_type": "code",
   "execution_count": 12,
   "metadata": {},
   "outputs": [],
   "source": [
    "from keras.models import Sequential\n",
    "from keras import Dense\n",
    "import numpy"
   ]
  },
  {
   "cell_type": "code",
   "execution_count": 27,
   "metadata": {},
   "outputs": [
    {
     "ename": "ValueError",
     "evalue": "Error when checking input: expected dense_7_input to have shape (3,) but got array with shape (8,)",
     "output_type": "error",
     "traceback": [
      "\u001b[1;31m---------------------------------------------------------------------------\u001b[0m",
      "\u001b[1;31mValueError\u001b[0m                                Traceback (most recent call last)",
      "\u001b[1;32m<ipython-input-27-9938af7fe82b>\u001b[0m in \u001b[0;36m<module>\u001b[1;34m\u001b[0m\n\u001b[0;32m     37\u001b[0m \u001b[1;31m# 모델 실행\u001b[0m\u001b[1;33m\u001b[0m\u001b[1;33m\u001b[0m\u001b[1;33m\u001b[0m\u001b[0m\n\u001b[0;32m     38\u001b[0m \u001b[1;31m# 한번 연산시 10개씩 연산 하겠다는 의미\u001b[0m\u001b[1;33m\u001b[0m\u001b[1;33m\u001b[0m\u001b[1;33m\u001b[0m\u001b[0m\n\u001b[1;32m---> 39\u001b[1;33m \u001b[0mmodel\u001b[0m\u001b[1;33m.\u001b[0m\u001b[0mfit\u001b[0m\u001b[1;33m(\u001b[0m\u001b[0mX\u001b[0m\u001b[1;33m,\u001b[0m \u001b[0mY\u001b[0m\u001b[1;33m,\u001b[0m \u001b[0mepochs\u001b[0m\u001b[1;33m=\u001b[0m\u001b[1;36m200\u001b[0m\u001b[1;33m,\u001b[0m \u001b[0mbatch_size\u001b[0m\u001b[1;33m=\u001b[0m\u001b[1;36m10\u001b[0m\u001b[1;33m)\u001b[0m\u001b[1;33m\u001b[0m\u001b[1;33m\u001b[0m\u001b[0m\n\u001b[0m\u001b[0;32m     40\u001b[0m \u001b[1;33m\u001b[0m\u001b[0m\n\u001b[0;32m     41\u001b[0m \u001b[1;31m# 결과 출력\u001b[0m\u001b[1;33m\u001b[0m\u001b[1;33m\u001b[0m\u001b[1;33m\u001b[0m\u001b[0m\n",
      "\u001b[1;32m~\\Anaconda3\\envs\\encore\\lib\\site-packages\\keras\\engine\\training.py\u001b[0m in \u001b[0;36mfit\u001b[1;34m(self, x, y, batch_size, epochs, verbose, callbacks, validation_split, validation_data, shuffle, class_weight, sample_weight, initial_epoch, steps_per_epoch, validation_steps, validation_freq, max_queue_size, workers, use_multiprocessing, **kwargs)\u001b[0m\n\u001b[0;32m   1152\u001b[0m             \u001b[0msample_weight\u001b[0m\u001b[1;33m=\u001b[0m\u001b[0msample_weight\u001b[0m\u001b[1;33m,\u001b[0m\u001b[1;33m\u001b[0m\u001b[1;33m\u001b[0m\u001b[0m\n\u001b[0;32m   1153\u001b[0m             \u001b[0mclass_weight\u001b[0m\u001b[1;33m=\u001b[0m\u001b[0mclass_weight\u001b[0m\u001b[1;33m,\u001b[0m\u001b[1;33m\u001b[0m\u001b[1;33m\u001b[0m\u001b[0m\n\u001b[1;32m-> 1154\u001b[1;33m             batch_size=batch_size)\n\u001b[0m\u001b[0;32m   1155\u001b[0m \u001b[1;33m\u001b[0m\u001b[0m\n\u001b[0;32m   1156\u001b[0m         \u001b[1;31m# Prepare validation data.\u001b[0m\u001b[1;33m\u001b[0m\u001b[1;33m\u001b[0m\u001b[1;33m\u001b[0m\u001b[0m\n",
      "\u001b[1;32m~\\Anaconda3\\envs\\encore\\lib\\site-packages\\keras\\engine\\training.py\u001b[0m in \u001b[0;36m_standardize_user_data\u001b[1;34m(self, x, y, sample_weight, class_weight, check_array_lengths, batch_size)\u001b[0m\n\u001b[0;32m    577\u001b[0m             \u001b[0mfeed_input_shapes\u001b[0m\u001b[1;33m,\u001b[0m\u001b[1;33m\u001b[0m\u001b[1;33m\u001b[0m\u001b[0m\n\u001b[0;32m    578\u001b[0m             \u001b[0mcheck_batch_axis\u001b[0m\u001b[1;33m=\u001b[0m\u001b[1;32mFalse\u001b[0m\u001b[1;33m,\u001b[0m  \u001b[1;31m# Don't enforce the batch size.\u001b[0m\u001b[1;33m\u001b[0m\u001b[1;33m\u001b[0m\u001b[0m\n\u001b[1;32m--> 579\u001b[1;33m             exception_prefix='input')\n\u001b[0m\u001b[0;32m    580\u001b[0m \u001b[1;33m\u001b[0m\u001b[0m\n\u001b[0;32m    581\u001b[0m         \u001b[1;32mif\u001b[0m \u001b[0my\u001b[0m \u001b[1;32mis\u001b[0m \u001b[1;32mnot\u001b[0m \u001b[1;32mNone\u001b[0m\u001b[1;33m:\u001b[0m\u001b[1;33m\u001b[0m\u001b[1;33m\u001b[0m\u001b[0m\n",
      "\u001b[1;32m~\\Anaconda3\\envs\\encore\\lib\\site-packages\\keras\\engine\\training_utils.py\u001b[0m in \u001b[0;36mstandardize_input_data\u001b[1;34m(data, names, shapes, check_batch_axis, exception_prefix)\u001b[0m\n\u001b[0;32m    143\u001b[0m                             \u001b[1;34m': expected '\u001b[0m \u001b[1;33m+\u001b[0m \u001b[0mnames\u001b[0m\u001b[1;33m[\u001b[0m\u001b[0mi\u001b[0m\u001b[1;33m]\u001b[0m \u001b[1;33m+\u001b[0m \u001b[1;34m' to have shape '\u001b[0m \u001b[1;33m+\u001b[0m\u001b[1;33m\u001b[0m\u001b[1;33m\u001b[0m\u001b[0m\n\u001b[0;32m    144\u001b[0m                             \u001b[0mstr\u001b[0m\u001b[1;33m(\u001b[0m\u001b[0mshape\u001b[0m\u001b[1;33m)\u001b[0m \u001b[1;33m+\u001b[0m \u001b[1;34m' but got array with shape '\u001b[0m \u001b[1;33m+\u001b[0m\u001b[1;33m\u001b[0m\u001b[1;33m\u001b[0m\u001b[0m\n\u001b[1;32m--> 145\u001b[1;33m                             str(data_shape))\n\u001b[0m\u001b[0;32m    146\u001b[0m     \u001b[1;32mreturn\u001b[0m \u001b[0mdata\u001b[0m\u001b[1;33m\u001b[0m\u001b[1;33m\u001b[0m\u001b[0m\n\u001b[0;32m    147\u001b[0m \u001b[1;33m\u001b[0m\u001b[0m\n",
      "\u001b[1;31mValueError\u001b[0m: Error when checking input: expected dense_7_input to have shape (3,) but got array with shape (8,)"
     ]
    }
   ],
   "source": [
    "# seed 값 생성\n",
    "seed = 0\n",
    "numpy.random.seed(seed)\n",
    "#tf.set_random_seed(seed)\n",
    "\n",
    "# 데이터 로드\n",
    "dataset = numpy.loadtxt(\"dataset/pima-indians-diabetes.csv\", delimiter=\",\")\n",
    "X = dataset[:,0:8]\n",
    "Y = dataset[:,8]\n",
    "\n",
    "# ??? 모델의 설정\n",
    "'''\n",
    "Dense(출력 뉴런의 수, 입력 뉴런의 수, 활성화 함수)\n",
    "'''\n",
    "model = Sequential()\n",
    "model.add(Dense(12, activation='relu', input_shape=(3,)))\n",
    "\n",
    "# 모델 컴파일\n",
    "'''\n",
    "loss : 한번 신경망이 실행될 때마다 오차 값을 추적하는 함수\n",
    "optimizer : 오차를 어떻게 줄여 나갈지 정하는 함수\n",
    "metrics : 이러한 평가 기준에는 모델의 학습에는 영향을 미치지 않지만, \n",
    "          학습 과정 중에 제대로 학습되고 있는 지 살펴볼 수 있음\n",
    "          케라스에서는 다중클래스분류 문제에서 평가기준을\n",
    "          accuracy로 지정했을 경우 내부적으로 categorical_accuracy()\n",
    "          함수를 이용하여 정확도가 계산\n",
    "'''\n",
    "model.compile(loss='binary_crossentropy',\n",
    "             optimizer='sgd',\n",
    "             metrics=['accuracy'])\n",
    "'''\n",
    "은닉층, relu 함수, 최적화등이 조합된 모델 생성\n",
    "- 학습 과정에서 오차 역전파시 좋은 성능의 함수 : relu\n",
    "'''\n",
    "\n",
    "\n",
    "# 모델 실행\n",
    "# 한번 연산시 10개씩 연산 하겠다는 의미\n",
    "model.fit(X, Y, epochs=200, batch_size=10)\n",
    "\n",
    "# 결과 출력\n",
    "# 딥러닝 모델이 어느 정도 정확하게 예측하는지 검검하는 함수\n",
    "print(\"\\n Accuracy: %.4f\" % (model.evaluate(X, Y)[1]))"
   ]
  },
  {
   "cell_type": "markdown",
   "metadata": {},
   "source": [
    "### 문제 2 : 폐암 수술 환자의 생존률 예측하기\n",
    "dataset\n",
    "    1. 폴란드의 브로츠와프 의과대학에서 2013년 공개한 폐암 수술 환자의 \n",
    "      수술 전 진단 데이터와 수술 후 생존 결과를 기록한 실제 의료 기록 데이터\n",
    "\n",
    "    2. 구성 : 470개의 row와 18개 항목\n",
    "    3. 특징(정보, 속성)\n",
    "        - 종양의 유형, 폐활량, 호흡 곤란 여부, 고통 정도, 기침, 흡연, 천신 여부등 17개\n",
    "    4. 클래스(label, target)\n",
    "        - 생존 여부\n",
    "        1 : 수술 후 생존 / 0 : 수술 후 사망\n"
   ]
  },
  {
   "cell_type": "code",
   "execution_count": 26,
   "metadata": {},
   "outputs": [
    {
     "name": "stdout",
     "output_type": "stream",
     "text": [
      "470/470 [==============================] - 0s 77us/step\n",
      "\n",
      " Accuracy: 0.8511\n"
     ]
    }
   ],
   "source": [
    "# 딥러닝을 구동하는 데 필요한 케라스 함수를 불러옴\n",
    "from keras.models import Sequential\n",
    "from keras.layers import Dense\n",
    "\n",
    "# 준비된 수술 환자 데이터를 load\n",
    "Data_set = numpy.loadtxt(\"dataset/ThoraricSurgery.csv\", delimiter=\",\")\n",
    "\n",
    "# ???환자의 기록과 수술 결과를 X와 Y로 구분하여 저장\n",
    "X = Data_set[:,0:17]\n",
    "Y = Data_set[:,17]\n",
    "# ???딥러닝 구조를 결정(모델을 설정하고 실행)\n",
    "\n",
    "model = Sequential()\n",
    "\n",
    "model.add(Dense(30,input_dim=17, activation='relu'))\n",
    "model.add(Dense(1, activation='sigmoid'))\n",
    "\n",
    "# 딥러닝 실행\n",
    "model.compile(loss='mean_squared_error', optimizer='sgd', metrics=['accuracy'])\n",
    "model.fit(X, Y, epochs=100, batch_size=20, verbose=0)\n",
    "\n",
    "# 결과를 출력\n",
    "print(\"\\n Accuracy: %.4f\" % (model.evaluate(X, Y)[1]))"
   ]
  },
  {
   "cell_type": "markdown",
   "metadata": {},
   "source": [
    "### 문제 3 : 이미지를 기반으로 유의미한 예측을 하기 위한 이미 진행된내용의 DeepLearning 소스를 단계별로 분석하기\n",
    "\n",
    "1. 데이터셋 구축(정제 완료..)\n",
    "- 0~9까지의 숫자 구분을 위한 문제\n",
    "- 클래스 0~9까지 10개\n",
    "- 개발 단계(전처리)\n",
    ">  검은 부분/흰 부분 구분해서 숫자로 변환<br>\n",
    "라벨링해서 분류<br>\n",
    "원핫벳터..."
   ]
  },
  {
   "cell_type": "code",
   "execution_count": 28,
   "metadata": {},
   "outputs": [],
   "source": [
    "from keras.datasets import mnist\n",
    "from keras.utils import np_utils\n",
    "\n",
    "import numpy\n",
    "import sys\n",
    "import os"
   ]
  },
  {
   "cell_type": "code",
   "execution_count": 29,
   "metadata": {},
   "outputs": [
    {
     "name": "stdout",
     "output_type": "stream",
     "text": [
      "학습 데이터 : 60000 개\n",
      "테스트 데이터 : 10000 개\n"
     ]
    }
   ],
   "source": [
    "seed = 0\n",
    "numpy.random.seed(seed)\n",
    "\n",
    "# mnist에서 데이터셋 불러오기\n",
    "(X_train, Y_class_train), (X_test, Y_class_test) = mnist.load_data()\n",
    "print(\"학습 데이터 : %d 개\" % (X_train.shape[0]))\n",
    "print(\"테스트 데이터 : %d 개\" % (X_test.shape[0]))"
   ]
  },
  {
   "cell_type": "code",
   "execution_count": 34,
   "metadata": {},
   "outputs": [
    {
     "data": {
      "image/png": "[encoded data removed]",
      "text/plain": [
       "<Figure size 432x288 with 1 Axes>"
      ]
     },
     "metadata": {
      "needs_background": "light"
     },
     "output_type": "display_data"
    }
   ],
   "source": [
    "#그래프로 확인\n",
    "import matplotlib.pyplot as plt\n",
    "plt.imshow(X_train[10], cmap='Greys')\n",
    "plt.show()"
   ]
  },
  {
   "cell_type": "code",
   "execution_count": 33,
   "metadata": {},
   "outputs": [
    {
     "name": "stdout",
     "output_type": "stream",
     "text": [
      "0\t0\t0\t0\t0\t0\t0\t0\t0\t0\t0\t0\t0\t0\t0\t0\t0\t0\t0\t0\t0\t0\t0\t0\t0\t0\t0\t0\t\n",
      "0\t0\t0\t0\t0\t0\t0\t0\t0\t0\t0\t0\t0\t0\t0\t0\t0\t0\t0\t0\t0\t0\t0\t0\t0\t0\t0\t0\t\n",
      "0\t0\t0\t0\t0\t0\t0\t0\t0\t0\t0\t0\t0\t0\t0\t0\t0\t0\t0\t0\t0\t0\t0\t0\t0\t0\t0\t0\t\n",
      "0\t0\t0\t0\t0\t0\t0\t0\t0\t0\t0\t0\t0\t0\t0\t0\t0\t0\t0\t0\t0\t0\t0\t0\t0\t0\t0\t0\t\n",
      "0\t0\t0\t0\t0\t0\t0\t0\t0\t0\t0\t42\t118\t219\t166\t118\t118\t6\t0\t0\t0\t0\t0\t0\t0\t0\t0\t0\t\n",
      "0\t0\t0\t0\t0\t0\t0\t0\t0\t0\t103\t242\t254\t254\t254\t254\t254\t66\t0\t0\t0\t0\t0\t0\t0\t0\t0\t0\t\n",
      "0\t0\t0\t0\t0\t0\t0\t0\t0\t0\t18\t232\t254\t254\t254\t254\t254\t238\t70\t0\t0\t0\t0\t0\t0\t0\t0\t0\t\n",
      "0\t0\t0\t0\t0\t0\t0\t0\t0\t0\t0\t104\t244\t254\t224\t254\t254\t254\t141\t0\t0\t0\t0\t0\t0\t0\t0\t0\t\n",
      "0\t0\t0\t0\t0\t0\t0\t0\t0\t0\t0\t0\t207\t254\t210\t254\t254\t254\t34\t0\t0\t0\t0\t0\t0\t0\t0\t0\t\n",
      "0\t0\t0\t0\t0\t0\t0\t0\t0\t0\t0\t0\t84\t206\t254\t254\t254\t254\t41\t0\t0\t0\t0\t0\t0\t0\t0\t0\t\n",
      "0\t0\t0\t0\t0\t0\t0\t0\t0\t0\t0\t0\t0\t24\t209\t254\t254\t254\t171\t0\t0\t0\t0\t0\t0\t0\t0\t0\t\n",
      "0\t0\t0\t0\t0\t0\t0\t0\t0\t0\t0\t0\t91\t137\t253\t254\t254\t254\t112\t0\t0\t0\t0\t0\t0\t0\t0\t0\t\n",
      "0\t0\t0\t0\t0\t0\t0\t0\t0\t0\t40\t214\t250\t254\t254\t254\t254\t254\t34\t0\t0\t0\t0\t0\t0\t0\t0\t0\t\n",
      "0\t0\t0\t0\t0\t0\t0\t0\t0\t0\t81\t247\t254\t254\t254\t254\t254\t254\t146\t0\t0\t0\t0\t0\t0\t0\t0\t0\t\n",
      "0\t0\t0\t0\t0\t0\t0\t0\t0\t0\t0\t110\t246\t254\t254\t254\t254\t254\t171\t0\t0\t0\t0\t0\t0\t0\t0\t0\t\n",
      "0\t0\t0\t0\t0\t0\t0\t0\t0\t0\t0\t0\t73\t89\t89\t93\t240\t254\t171\t0\t0\t0\t0\t0\t0\t0\t0\t0\t\n",
      "0\t0\t0\t0\t0\t0\t0\t0\t0\t0\t0\t0\t0\t0\t0\t1\t128\t254\t219\t31\t0\t0\t0\t0\t0\t0\t0\t0\t\n",
      "0\t0\t0\t0\t0\t0\t0\t0\t0\t0\t0\t0\t0\t0\t0\t7\t254\t254\t214\t28\t0\t0\t0\t0\t0\t0\t0\t0\t\n",
      "0\t0\t0\t0\t0\t0\t0\t0\t0\t0\t0\t0\t0\t0\t0\t138\t254\t254\t116\t0\t0\t0\t0\t0\t0\t0\t0\t0\t\n",
      "0\t0\t0\t0\t0\t0\t19\t177\t90\t0\t0\t0\t0\t0\t25\t240\t254\t254\t34\t0\t0\t0\t0\t0\t0\t0\t0\t0\t\n",
      "0\t0\t0\t0\t0\t0\t164\t254\t215\t63\t36\t0\t51\t89\t206\t254\t254\t139\t8\t0\t0\t0\t0\t0\t0\t0\t0\t0\t\n",
      "0\t0\t0\t0\t0\t0\t57\t197\t254\t254\t222\t180\t241\t254\t254\t253\t213\t11\t0\t0\t0\t0\t0\t0\t0\t0\t0\t0\t\n",
      "0\t0\t0\t0\t0\t0\t0\t140\t105\t254\t254\t254\t254\t254\t254\t236\t0\t0\t0\t0\t0\t0\t0\t0\t0\t0\t0\t0\t\n",
      "0\t0\t0\t0\t0\t0\t0\t0\t7\t117\t117\t165\t254\t254\t239\t50\t0\t0\t0\t0\t0\t0\t0\t0\t0\t0\t0\t0\t\n",
      "0\t0\t0\t0\t0\t0\t0\t0\t0\t0\t0\t0\t0\t0\t0\t0\t0\t0\t0\t0\t0\t0\t0\t0\t0\t0\t0\t0\t\n",
      "0\t0\t0\t0\t0\t0\t0\t0\t0\t0\t0\t0\t0\t0\t0\t0\t0\t0\t0\t0\t0\t0\t0\t0\t0\t0\t0\t0\t\n",
      "0\t0\t0\t0\t0\t0\t0\t0\t0\t0\t0\t0\t0\t0\t0\t0\t0\t0\t0\t0\t0\t0\t0\t0\t0\t0\t0\t0\t\n",
      "0\t0\t0\t0\t0\t0\t0\t0\t0\t0\t0\t0\t0\t0\t0\t0\t0\t0\t0\t0\t0\t0\t0\t0\t0\t0\t0\t0\t\n"
     ]
    }
   ],
   "source": [
    "# 코드로 확인\n",
    "for x in X_train[10]:\n",
    "    for i in x:\n",
    "        sys.stdout.write(\"%d\\t\" % i)\n",
    "    sys.stdout.write(\"\\n\")"
   ]
  },
  {
   "cell_type": "code",
   "execution_count": null,
   "metadata": {},
   "outputs": [],
   "source": [
    "# 차원 변환  숫자 하나가 가로 28 * 28 즉 784 개의 점으로 구성된 2차원 구조\n",
    "''' 정규화\n",
    "차원 변환 단계 \n",
    "- 0~255까지의 숫자로 구성된 이미지 데이터(2차원)\n",
    "- 1차원으로 차원 변환 \n",
    "- 0과 1에 해당하는 구조로 변환  : float으로 변환후에 255로 나눔\n",
    "'''\n",
    "X_train = X_train.reshape(X_train.shape[0], 784)\n",
    "X_train = X_train.astype(\"float64\")\n",
    "X_train = X_train / 255\n",
    "\n",
    "X_test = X_test.reshape(X_test.shape[0], 784).astype('float64') / 255"
   ]
  },
  {
   "cell_type": "code",
   "execution_count": null,
   "metadata": {},
   "outputs": [],
   "source": [
    "X_train"
   ]
  },
  {
   "cell_type": "code",
   "execution_count": null,
   "metadata": {},
   "outputs": [],
   "source": [
    "print(\"label : %d \" % (Y_class_train[0]))"
   ]
  },
  {
   "cell_type": "code",
   "execution_count": null,
   "metadata": {},
   "outputs": [],
   "source": [
    "# 분류를 위한 사전 작업 : 원핫 벡터\n",
    "# 0~9 : 1 [0, 1, 0, 0, 0,...]\n",
    "Y_train = np_utils.to_categorical(Y_class_train, 10)\n",
    "Y_test = np_utils.to_categorical(Y_class_test, 10)\n",
    "print(Y_train[0])"
   ]
  }
 ],
 "metadata": {
  "kernelspec": {
   "display_name": "Python 3",
   "language": "python",
   "name": "python3"
  },
  "language_info": {
   "codemirror_mode": {
    "name": "ipython",
    "version": 3
   },
   "file_extension": ".py",
   "mimetype": "text/x-python",
   "name": "python",
   "nbconvert_exporter": "python",
   "pygments_lexer": "ipython3",
   "version": "3.6.9"
  }
 },
 "nbformat": 4,
 "nbformat_minor": 2
}
